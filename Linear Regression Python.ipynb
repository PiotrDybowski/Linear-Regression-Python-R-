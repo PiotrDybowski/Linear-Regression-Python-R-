{
 "cells": [
  {
   "cell_type": "code",
   "execution_count": 1,
   "metadata": {
    "collapsed": true
   },
   "outputs": [],
   "source": [
    "import numpy as np\n",
    "import matplotlib.pyplot as plt\n",
    "import pandas as pd\n",
    "import sklearn.linear_model as lm"
   ]
  },
  {
   "cell_type": "code",
   "execution_count": 2,
   "metadata": {
    "collapsed": true
   },
   "outputs": [],
   "source": [
    "dataset = pd.read_csv('data.txt')\n",
    "dataset\n",
    "X = []\n",
    "Y = []\n",
    "counter = 0"
   ]
  },
  {
   "cell_type": "code",
   "execution_count": 3,
   "metadata": {},
   "outputs": [
    {
     "data": {
      "text/plain": [
       "array([ 13495.,  16500.,  16500.,  13950.,  17450.,  15250.,  17710.,\n",
       "        18920.,  23875.,      0.,  16430.,  16925.,  20970.,  21105.,\n",
       "        24565.,  30760.,  41315.,  36880.,   5151.,   6295.,   6575.,\n",
       "         5572.,   6377.,   7957.,   6229.,   6692.,   7609.,   8558.,\n",
       "         8921.,  12964.,   6479.,   6855.,   5399.,   6529.,   7129.,\n",
       "         7295.,   7295.,   7895.,   9095.,   8845.,  10295.,  12945.,\n",
       "        10345.,   6785.,      0.,      0.,  11048.,  32250.,  35550.,\n",
       "        36000.,   5195.,   6095.,   6795.,   6695.,   7395.,  10945.,\n",
       "        11845.,  13645.,  15645.,   8845.,   8495.,  10595.,  10245.,\n",
       "        10795.,  11245.,  18280.,  18344.,  25552.,  28248.,  28176.,\n",
       "        31600.,  34184.,  35056.,  40960.,  45400.,  16503.,   5389.,\n",
       "         6189.,   6669.,   7689.,   9959.,   8499.,  12629.,  14869.,\n",
       "        14489.,   6989.,   8189.,   9279.,   9279.,   5499.,   7099.,\n",
       "         6649.,   6849.,   7349.,   7299.,   7799.,   7499.,   7999.,\n",
       "         8249.,   8949.,   9549.,  13499.,  14399.,  13499.,  17199.,\n",
       "        19699.,  18399.,  11900.,  13200.,  12440.,  13860.,  15580.,\n",
       "        16900.,  16695.,  17075.,  16630.,  17950.,  18150.,   5572.,\n",
       "         7957.,   6229.,   6692.,   7609.,   8921.,  12764.,  22018.,\n",
       "        32528.,  34028.,  37028.,      0.,   9295.,   9895.,  11850.,\n",
       "        12170.,  15040.,  15510.,  18150.,  18620.,   5118.,   7053.,\n",
       "         7603.,   7126.,   7775.,   9960.,   9233.,  11259.,   7463.,\n",
       "        10198.,   8013.,  11694.,   5348.,   6338.,   6488.,   6918.,\n",
       "         7898.,   8778.,   6938.,   7198.,   7898.,   7788.,   7738.,\n",
       "         8358.,   9258.,   8058.,   8238.,   9298.,   9538.,   8449.,\n",
       "         9639.,   9989.,  11199.,  11549.,  17669.,   8948.,  10698.,\n",
       "         9988.,  10898.,  11248.,  16558.,  15998.,  15690.,  15750.,\n",
       "         7775.,   7975.,   7995.,   8195.,   8495.,   9495.,   9995.,\n",
       "        11595.,   9980.,  13295.,  13845.,  12290.,  12940.,  13415.,\n",
       "        15985.,  16515.,  18420.,  18950.,  16845.,  19045.,  21485.,\n",
       "        22470.,  22625.])"
      ]
     },
     "execution_count": 3,
     "metadata": {},
     "output_type": "execute_result"
    }
   ],
   "source": [
    "Xtemp = dataset.iloc[:, 25].values\n",
    "#Jeśli w liście jest ? zamień na 0\n",
    "for x in Xtemp:\n",
    "     if x == \"?\":\n",
    "         Xtemp[counter] = 0\n",
    "     counter += 1\n",
    "\n",
    "#Konwertuj każdą liczbę z typu String na float\n",
    "X = Xtemp.astype(float)\n",
    "X"
   ]
  },
  {
   "cell_type": "code",
   "execution_count": 5,
   "metadata": {},
   "outputs": [
    {
     "data": {
      "text/plain": [
       "array([ 111.,  111.,  154.,  102.,  115.,  110.,  110.,  110.,  140.,\n",
       "        160.,  101.,  101.,  121.,  121.,  121.,  182.,  182.,  182.,\n",
       "         48.,   70.,   70.,   68.,   68.,  102.,   68.,   68.,   68.,\n",
       "        102.,   88.,  145.,   58.,   76.,   60.,   76.,   76.,   76.,\n",
       "         76.,   86.,   86.,   86.,   86.,  101.,  100.,   78.,   70.,\n",
       "         70.,   90.,  176.,  176.,  262.,   68.,   68.,   68.,   68.,\n",
       "         68.,  101.,  101.,  101.,  135.,   84.,   84.,   84.,   84.,\n",
       "         64.,   84.,  120.,   72.,  123.,  123.,  123.,  123.,  155.,\n",
       "        155.,  184.,  184.,  175.,   68.,   68.,   68.,  102.,  116.,\n",
       "         88.,  145.,  145.,  145.,   88.,   88.,  116.,  116.,   69.,\n",
       "         55.,   69.,   69.,   69.,   69.,   69.,   69.,   69.,   69.,\n",
       "         97.,   97.,  152.,  152.,  152.,  160.,  200.,  160.,   97.,\n",
       "         95.,   97.,   95.,   95.,   95.,   95.,   95.,   97.,   95.,\n",
       "        142.,   68.,  102.,   68.,   68.,   68.,   88.,  145.,  143.,\n",
       "        207.,  207.,  207.,  288.,    0.,    0.,  110.,  110.,  110.,\n",
       "        110.,  160.,  160.,   69.,   73.,   73.,   82.,   82.,   94.,\n",
       "         82.,  111.,   82.,   94.,   82.,  111.,   62.,   62.,   62.,\n",
       "         62.,   62.,   62.,   70.,   70.,   56.,   56.,   70.,   70.,\n",
       "         70.,   70.,   70.,  112.,  112.,  116.,  116.,  116.,  116.,\n",
       "        116.,  116.,   92.,   73.,   92.,   92.,   92.,  161.,  161.,\n",
       "        156.,  156.,   52.,   85.,   52.,   85.,   85.,   68.,  100.,\n",
       "         90.,   90.,  110.,   68.,   88.,  114.,  114.,  114.,  114.,\n",
       "        162.,  162.,  114.,  160.,  134.,  106.,  114.])"
      ]
     },
     "execution_count": 5,
     "metadata": {},
     "output_type": "execute_result"
    }
   ],
   "source": [
    "Ytemp = dataset.iloc[:, 21].values\n",
    "counter=0\n",
    "for y in Ytemp:\n",
    "    if y == \"?\":\n",
    "        Ytemp[counter] = 0\n",
    "    counter += 1\n",
    "\n",
    "Y = Ytemp.astype(float)\n",
    "Y"
   ]
  },
  {
   "cell_type": "code",
   "execution_count": 6,
   "metadata": {
    "collapsed": true
   },
   "outputs": [],
   "source": [
    "X = X.reshape(-1,1)\n",
    "Y = Y.reshape(-1,1)"
   ]
  },
  {
   "cell_type": "code",
   "execution_count": 8,
   "metadata": {},
   "outputs": [
    {
     "data": {
      "text/plain": [
       "LinearRegression(copy_X=True, fit_intercept=True, n_jobs=1, normalize=False)"
      ]
     },
     "execution_count": 8,
     "metadata": {},
     "output_type": "execute_result"
    }
   ],
   "source": [
    "# from sklearn.linear_model import LinearRegression\n",
    "regressor = lm.LinearRegression()\n",
    "regressor.fit(X, Y)"
   ]
  },
  {
   "cell_type": "code",
   "execution_count": 12,
   "metadata": {},
   "outputs": [
    {
     "data": {
      "image/png": "[encoded data removed]",
      "text/plain": [
       "<matplotlib.figure.Figure at 0x11550a978>"
      ]
     },
     "metadata": {},
     "output_type": "display_data"
    }
   ],
   "source": [
    "plt.scatter(X,Y,color='red')\n",
    "plt.plot(X,regressor.predict(X), color='blue')\n",
    "plt.xlabel('Price')\n",
    "plt.ylabel('Horsepower')\n",
    "plt.title('Price vs Horsepower')\n",
    "plt.xlim(1000)\n",
    "plt.ylim(10)\n",
    "plt.show()"
   ]
  },
  {
   "cell_type": "code",
   "execution_count": null,
   "metadata": {
    "collapsed": true
   },
   "outputs": [],
   "source": []
  }
 ],
 "metadata": {
  "kernelspec": {
   "display_name": "Python 3",
   "language": "python",
   "name": "python3"
  },
  "language_info": {
   "codemirror_mode": {
    "name": "ipython",
    "version": 3
   },
   "file_extension": ".py",
   "mimetype": "text/x-python",
   "name": "python",
   "nbconvert_exporter": "python",
   "pygments_lexer": "ipython3",
   "version": "3.6.3"
  }
 },
 "nbformat": 4,
 "nbformat_minor": 2
}
